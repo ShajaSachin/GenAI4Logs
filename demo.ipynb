{
 "cells": [
  {
   "cell_type": "markdown",
   "id": "79419063-5017-418f-b609-1fbf02ac7ec9",
   "metadata": {},
   "source": [
    "## RAG for information retrieval and anomaly detection\n",
    "### LlamaIndex and Langchain\n",
    "\n",
    "Please install the following libraries for running the rest of NoteBook (go to the cell and press Shift+Enter to run)"
   ]
  },
  {
   "cell_type": "code",
   "execution_count": 77,
   "id": "d8631071-2c96-464b-adcb-d72f2fdd1a30",
   "metadata": {},
   "outputs": [
    {
     "name": "stdout",
     "output_type": "stream",
     "text": [
      "Requirement already satisfied: langchain in /opt/anaconda3/lib/python3.11/site-packages (0.2.1)\n",
      "Requirement already satisfied: llama_index in /opt/anaconda3/lib/python3.11/site-packages (0.10.42)\n",
      "Requirement already satisfied: pandas in /opt/anaconda3/lib/python3.11/site-packages (2.1.4)\n",
      "Requirement already satisfied: plotly in /opt/anaconda3/lib/python3.11/site-packages (5.9.0)\n",
      "Requirement already satisfied: PyYAML>=5.3 in /opt/anaconda3/lib/python3.11/site-packages (from langchain) (6.0.1)\n",
      "Requirement already satisfied: SQLAlchemy<3,>=1.4 in /opt/anaconda3/lib/python3.11/site-packages (from langchain) (2.0.30)\n",
      "Requirement already satisfied: aiohttp<4.0.0,>=3.8.3 in /opt/anaconda3/lib/python3.11/site-packages (from langchain) (3.9.3)\n",
      "Requirement already satisfied: langchain-core<0.3.0,>=0.2.0 in /opt/anaconda3/lib/python3.11/site-packages (from langchain) (0.2.3)\n",
      "Requirement already satisfied: langchain-text-splitters<0.3.0,>=0.2.0 in /opt/anaconda3/lib/python3.11/site-packages (from langchain) (0.2.0)\n",
      "Requirement already satisfied: langsmith<0.2.0,>=0.1.17 in /opt/anaconda3/lib/python3.11/site-packages (from langchain) (0.1.68)\n",
      "Requirement already satisfied: numpy<2,>=1 in /opt/anaconda3/lib/python3.11/site-packages (from langchain) (1.26.4)\n",
      "Requirement already satisfied: pydantic<3,>=1 in /opt/anaconda3/lib/python3.11/site-packages (from langchain) (2.7.2)\n",
      "Requirement already satisfied: requests<3,>=2 in /opt/anaconda3/lib/python3.11/site-packages (from langchain) (2.31.0)\n",
      "Requirement already satisfied: tenacity<9.0.0,>=8.1.0 in /opt/anaconda3/lib/python3.11/site-packages (from langchain) (8.3.0)\n",
      "Requirement already satisfied: llama-index-agent-openai<0.3.0,>=0.1.4 in /opt/anaconda3/lib/python3.11/site-packages (from llama_index) (0.2.7)\n",
      "Requirement already satisfied: llama-index-cli<0.2.0,>=0.1.2 in /opt/anaconda3/lib/python3.11/site-packages (from llama_index) (0.1.12)\n",
      "Requirement already satisfied: llama-index-core==0.10.42 in /opt/anaconda3/lib/python3.11/site-packages (from llama_index) (0.10.42)\n",
      "Requirement already satisfied: llama-index-embeddings-openai<0.2.0,>=0.1.5 in /opt/anaconda3/lib/python3.11/site-packages (from llama_index) (0.1.10)\n",
      "Requirement already satisfied: llama-index-indices-managed-llama-cloud<0.2.0,>=0.1.2 in /opt/anaconda3/lib/python3.11/site-packages (from llama_index) (0.1.6)\n",
      "Requirement already satisfied: llama-index-legacy<0.10.0,>=0.9.48 in /opt/anaconda3/lib/python3.11/site-packages (from llama_index) (0.9.48)\n",
      "Requirement already satisfied: llama-index-llms-openai<0.2.0,>=0.1.13 in /opt/anaconda3/lib/python3.11/site-packages (from llama_index) (0.1.22)\n",
      "Requirement already satisfied: llama-index-multi-modal-llms-openai<0.2.0,>=0.1.3 in /opt/anaconda3/lib/python3.11/site-packages (from llama_index) (0.1.6)\n",
      "Requirement already satisfied: llama-index-program-openai<0.2.0,>=0.1.3 in /opt/anaconda3/lib/python3.11/site-packages (from llama_index) (0.1.6)\n",
      "Requirement already satisfied: llama-index-question-gen-openai<0.2.0,>=0.1.2 in /opt/anaconda3/lib/python3.11/site-packages (from llama_index) (0.1.3)\n",
      "Requirement already satisfied: llama-index-readers-file<0.2.0,>=0.1.4 in /opt/anaconda3/lib/python3.11/site-packages (from llama_index) (0.1.23)\n",
      "Requirement already satisfied: llama-index-readers-llama-parse<0.2.0,>=0.1.2 in /opt/anaconda3/lib/python3.11/site-packages (from llama_index) (0.1.4)\n",
      "Requirement already satisfied: dataclasses-json in /opt/anaconda3/lib/python3.11/site-packages (from llama-index-core==0.10.42->llama_index) (0.6.6)\n",
      "Requirement already satisfied: deprecated>=1.2.9.3 in /opt/anaconda3/lib/python3.11/site-packages (from llama-index-core==0.10.42->llama_index) (1.2.14)\n",
      "Requirement already satisfied: dirtyjson<2.0.0,>=1.0.8 in /opt/anaconda3/lib/python3.11/site-packages (from llama-index-core==0.10.42->llama_index) (1.0.8)\n",
      "Requirement already satisfied: fsspec>=2023.5.0 in /opt/anaconda3/lib/python3.11/site-packages (from llama-index-core==0.10.42->llama_index) (2023.10.0)\n",
      "Requirement already satisfied: httpx in /opt/anaconda3/lib/python3.11/site-packages (from llama-index-core==0.10.42->llama_index) (0.27.0)\n",
      "Requirement already satisfied: llamaindex-py-client<0.2.0,>=0.1.18 in /opt/anaconda3/lib/python3.11/site-packages (from llama-index-core==0.10.42->llama_index) (0.1.19)\n",
      "Requirement already satisfied: nest-asyncio<2.0.0,>=1.5.8 in /opt/anaconda3/lib/python3.11/site-packages (from llama-index-core==0.10.42->llama_index) (1.6.0)\n",
      "Requirement already satisfied: networkx>=3.0 in /opt/anaconda3/lib/python3.11/site-packages (from llama-index-core==0.10.42->llama_index) (3.1)\n",
      "Requirement already satisfied: nltk<4.0.0,>=3.8.1 in /opt/anaconda3/lib/python3.11/site-packages (from llama-index-core==0.10.42->llama_index) (3.8.1)\n",
      "Requirement already satisfied: openai>=1.1.0 in /opt/anaconda3/lib/python3.11/site-packages (from llama-index-core==0.10.42->llama_index) (1.30.4)\n",
      "Requirement already satisfied: pillow>=9.0.0 in /opt/anaconda3/lib/python3.11/site-packages (from llama-index-core==0.10.42->llama_index) (10.2.0)\n",
      "Requirement already satisfied: tiktoken>=0.3.3 in /opt/anaconda3/lib/python3.11/site-packages (from llama-index-core==0.10.42->llama_index) (0.7.0)\n",
      "Requirement already satisfied: tqdm<5.0.0,>=4.66.1 in /opt/anaconda3/lib/python3.11/site-packages (from llama-index-core==0.10.42->llama_index) (4.66.4)\n",
      "Requirement already satisfied: typing-extensions>=4.5.0 in /opt/anaconda3/lib/python3.11/site-packages (from llama-index-core==0.10.42->llama_index) (4.9.0)\n",
      "Requirement already satisfied: typing-inspect>=0.8.0 in /opt/anaconda3/lib/python3.11/site-packages (from llama-index-core==0.10.42->llama_index) (0.9.0)\n",
      "Requirement already satisfied: wrapt in /opt/anaconda3/lib/python3.11/site-packages (from llama-index-core==0.10.42->llama_index) (1.14.1)\n",
      "Requirement already satisfied: python-dateutil>=2.8.2 in /opt/anaconda3/lib/python3.11/site-packages (from pandas) (2.8.2)\n",
      "Requirement already satisfied: pytz>=2020.1 in /opt/anaconda3/lib/python3.11/site-packages (from pandas) (2023.3.post1)\n",
      "Requirement already satisfied: tzdata>=2022.1 in /opt/anaconda3/lib/python3.11/site-packages (from pandas) (2023.3)\n",
      "Requirement already satisfied: aiosignal>=1.1.2 in /opt/anaconda3/lib/python3.11/site-packages (from aiohttp<4.0.0,>=3.8.3->langchain) (1.2.0)\n",
      "Requirement already satisfied: attrs>=17.3.0 in /opt/anaconda3/lib/python3.11/site-packages (from aiohttp<4.0.0,>=3.8.3->langchain) (23.1.0)\n",
      "Requirement already satisfied: frozenlist>=1.1.1 in /opt/anaconda3/lib/python3.11/site-packages (from aiohttp<4.0.0,>=3.8.3->langchain) (1.4.0)\n",
      "Requirement already satisfied: multidict<7.0,>=4.5 in /opt/anaconda3/lib/python3.11/site-packages (from aiohttp<4.0.0,>=3.8.3->langchain) (6.0.4)\n",
      "Requirement already satisfied: yarl<2.0,>=1.0 in /opt/anaconda3/lib/python3.11/site-packages (from aiohttp<4.0.0,>=3.8.3->langchain) (1.9.3)\n",
      "Requirement already satisfied: jsonpatch<2.0,>=1.33 in /opt/anaconda3/lib/python3.11/site-packages (from langchain-core<0.3.0,>=0.2.0->langchain) (1.33)\n",
      "Requirement already satisfied: packaging<24.0,>=23.2 in /opt/anaconda3/lib/python3.11/site-packages (from langchain-core<0.3.0,>=0.2.0->langchain) (23.2)\n",
      "Requirement already satisfied: orjson<4.0.0,>=3.9.14 in /opt/anaconda3/lib/python3.11/site-packages (from langsmith<0.2.0,>=0.1.17->langchain) (3.10.3)\n",
      "Requirement already satisfied: beautifulsoup4<5.0.0,>=4.12.3 in /opt/anaconda3/lib/python3.11/site-packages (from llama-index-readers-file<0.2.0,>=0.1.4->llama_index) (4.12.3)\n",
      "Requirement already satisfied: pypdf<5.0.0,>=4.0.1 in /opt/anaconda3/lib/python3.11/site-packages (from llama-index-readers-file<0.2.0,>=0.1.4->llama_index) (4.2.0)\n",
      "Requirement already satisfied: striprtf<0.0.27,>=0.0.26 in /opt/anaconda3/lib/python3.11/site-packages (from llama-index-readers-file<0.2.0,>=0.1.4->llama_index) (0.0.26)\n",
      "Requirement already satisfied: llama-parse<0.5.0,>=0.4.0 in /opt/anaconda3/lib/python3.11/site-packages (from llama-index-readers-llama-parse<0.2.0,>=0.1.2->llama_index) (0.4.4)\n",
      "Requirement already satisfied: annotated-types>=0.4.0 in /opt/anaconda3/lib/python3.11/site-packages (from pydantic<3,>=1->langchain) (0.7.0)\n",
      "Requirement already satisfied: pydantic-core==2.18.3 in /opt/anaconda3/lib/python3.11/site-packages (from pydantic<3,>=1->langchain) (2.18.3)\n",
      "Requirement already satisfied: six>=1.5 in /opt/anaconda3/lib/python3.11/site-packages (from python-dateutil>=2.8.2->pandas) (1.16.0)\n",
      "Requirement already satisfied: charset-normalizer<4,>=2 in /opt/anaconda3/lib/python3.11/site-packages (from requests<3,>=2->langchain) (2.0.4)\n",
      "Requirement already satisfied: idna<4,>=2.5 in /opt/anaconda3/lib/python3.11/site-packages (from requests<3,>=2->langchain) (3.4)\n",
      "Requirement already satisfied: urllib3<3,>=1.21.1 in /opt/anaconda3/lib/python3.11/site-packages (from requests<3,>=2->langchain) (2.0.7)\n",
      "Requirement already satisfied: certifi>=2017.4.17 in /opt/anaconda3/lib/python3.11/site-packages (from requests<3,>=2->langchain) (2024.2.2)\n",
      "Requirement already satisfied: greenlet!=0.4.17 in /opt/anaconda3/lib/python3.11/site-packages (from SQLAlchemy<3,>=1.4->langchain) (3.0.1)\n",
      "Requirement already satisfied: soupsieve>1.2 in /opt/anaconda3/lib/python3.11/site-packages (from beautifulsoup4<5.0.0,>=4.12.3->llama-index-readers-file<0.2.0,>=0.1.4->llama_index) (2.5)\n",
      "Requirement already satisfied: jsonpointer>=1.9 in /opt/anaconda3/lib/python3.11/site-packages (from jsonpatch<2.0,>=1.33->langchain-core<0.3.0,>=0.2.0->langchain) (2.1)\n",
      "Requirement already satisfied: anyio in /opt/anaconda3/lib/python3.11/site-packages (from httpx->llama-index-core==0.10.42->llama_index) (4.2.0)\n",
      "Requirement already satisfied: httpcore==1.* in /opt/anaconda3/lib/python3.11/site-packages (from httpx->llama-index-core==0.10.42->llama_index) (1.0.5)\n",
      "Requirement already satisfied: sniffio in /opt/anaconda3/lib/python3.11/site-packages (from httpx->llama-index-core==0.10.42->llama_index) (1.3.0)\n",
      "Requirement already satisfied: h11<0.15,>=0.13 in /opt/anaconda3/lib/python3.11/site-packages (from httpcore==1.*->httpx->llama-index-core==0.10.42->llama_index) (0.14.0)\n",
      "Requirement already satisfied: click in /opt/anaconda3/lib/python3.11/site-packages (from nltk<4.0.0,>=3.8.1->llama-index-core==0.10.42->llama_index) (8.1.7)\n",
      "Requirement already satisfied: joblib in /opt/anaconda3/lib/python3.11/site-packages (from nltk<4.0.0,>=3.8.1->llama-index-core==0.10.42->llama_index) (1.2.0)\n",
      "Requirement already satisfied: regex>=2021.8.3 in /opt/anaconda3/lib/python3.11/site-packages (from nltk<4.0.0,>=3.8.1->llama-index-core==0.10.42->llama_index) (2023.12.25)\n",
      "Requirement already satisfied: distro<2,>=1.7.0 in /opt/anaconda3/lib/python3.11/site-packages (from openai>=1.1.0->llama-index-core==0.10.42->llama_index) (1.8.0)\n",
      "Requirement already satisfied: mypy-extensions>=0.3.0 in /opt/anaconda3/lib/python3.11/site-packages (from typing-inspect>=0.8.0->llama-index-core==0.10.42->llama_index) (1.0.0)\n",
      "Requirement already satisfied: marshmallow<4.0.0,>=3.18.0 in /opt/anaconda3/lib/python3.11/site-packages (from dataclasses-json->llama-index-core==0.10.42->llama_index) (3.21.2)\n"
     ]
    }
   ],
   "source": [
    "!pip install langchain llama_index pandas plotly"
   ]
  },
  {
   "cell_type": "code",
   "execution_count": 78,
   "id": "0011dbee-ceb9-4b73-b6b4-02dd4f38af0d",
   "metadata": {},
   "outputs": [],
   "source": [
    "import warnings\n",
    "warnings.filterwarnings('ignore')"
   ]
  },
  {
   "cell_type": "markdown",
   "id": "f104db70-fd2f-43ce-a30e-88e5be53bc88",
   "metadata": {},
   "source": [
    "### Imports\n",
    "\n",
    "Import the required libraries below"
   ]
  },
  {
   "cell_type": "code",
   "execution_count": 39,
   "id": "1c4c56ee-ef7b-41bf-abbf-0b40ffd4ca8d",
   "metadata": {},
   "outputs": [],
   "source": [
    "import os\n",
    "from collections import defaultdict\n",
    "from langchain.embeddings import OpenAIEmbeddings\n",
    "from langchain.llms import OpenAI\n",
    "from llama_index.core import VectorStoreIndex, SimpleDirectoryReader, Document, PromptTemplate\n",
    "from langchain_core.prompts import PromptTemplate\n",
    "from langchain.chains import LLMChain\n",
    "from llama_index.core import StorageContext, load_index_from_storage\n",
    "from llama_index.core import Settings\n",
    "Settings.chunk_size = 1024\n",
    "Settings.chunk_overlap = 100"
   ]
  },
  {
   "cell_type": "markdown",
   "id": "ef116588-ad61-46f1-a477-879fe544e6a0",
   "metadata": {},
   "source": [
    "### OpenAI Key\n",
    "\n",
    "Add your OpenAI key for GPT 3.5. you can add for GPT 4 to get better reports. Follow this to create your own key:\n",
    "https://community.openai.com/t/how-to-generate-openai-api-key/401363/3\n",
    "Access or create your GPT 3.5 key here after signing up: \n",
    "https://platform.openai.com/api-keys\n",
    "For GPT 4: \n",
    "https://platform.openai.com/settings/profile?tab=api-keys"
   ]
  },
  {
   "cell_type": "code",
   "execution_count": 40,
   "id": "49fd8b8e-2e4e-4c2e-8b18-5a5cb514c842",
   "metadata": {},
   "outputs": [],
   "source": [
    "# Set API keys and configurations\n",
    "os.environ[\"OPENAI_API_KEY\"] = \"your_openai_api_key\"# your_openai_api_key"
   ]
  },
  {
   "cell_type": "markdown",
   "id": "e8ea1930-4475-4bad-b4f7-7f8de6faea94",
   "metadata": {},
   "source": [
    "### Models\n",
    "\n",
    "We are going to use APIs for text-embedding-ada-002 (embedding model) to convert text to embedding and text-davinci-003 (LLM generator) for creating reports"
   ]
  },
  {
   "cell_type": "code",
   "execution_count": 41,
   "id": "898f566c-c07e-4110-8ba3-1271733f0f90",
   "metadata": {},
   "outputs": [],
   "source": [
    "# Initialize embeddings and LLM\n",
    "embedding_model = OpenAIEmbeddings(model=\"text-embedding-ada-002\")\n",
    "llm = OpenAI(temperature=0, model_name=\"text-davinci-003\")"
   ]
  },
  {
   "cell_type": "markdown",
   "id": "db133592-b895-44b0-a0df-487b01fbb256",
   "metadata": {},
   "source": [
    "### Log Data\n",
    "\n",
    "Reading sample log file and clean the logs"
   ]
  },
  {
   "cell_type": "code",
   "execution_count": 42,
   "id": "e983c9b3-d202-4df9-9f30-93c63a40baa7",
   "metadata": {},
   "outputs": [],
   "source": [
    "mpath = './'\n",
    "# Load log lines from text file\n",
    "with open(mpath + 'demofile1.txt', 'r') as file:\n",
    "    log_lines = file.readlines()\n",
    "    \n",
    "log_lines = [j.rstrip('\\n') for j in log_lines]\n",
    "log_lines = [j for j in log_lines if j]"
   ]
  },
  {
   "cell_type": "markdown",
   "id": "2e7be16c-ed24-44a5-a1d8-2e10d631924a",
   "metadata": {},
   "source": [
    "### Vector Store\n",
    "\n",
    "Create the Index for logs using LlamaIndex VectorStoreIndex to use it to search and retrieve similar log meaning. We are going to perform embedding similarity using this Index store. This index store is in memory but in practice when data is large, it is advised to use a Vector DB like FAISS, CHROMA, PineCone, QDrant etc. "
   ]
  },
  {
   "cell_type": "code",
   "execution_count": 43,
   "id": "bb98d5a3-5505-43be-be90-89bd474b67d4",
   "metadata": {},
   "outputs": [],
   "source": [
    "# Convert log lines to LlamaIndex documents\n",
    "documents = [Document(text=line.strip(), metadata={'key':i}) for i, line in enumerate(log_lines)]\n",
    "\n",
    "# Initialize LlamaIndex\n",
    "index = VectorStoreIndex(documents, embed_fn=embedding_model.embed_query)"
   ]
  },
  {
   "cell_type": "markdown",
   "id": "9df0715b-8d00-4097-84ad-84622f10b226",
   "metadata": {},
   "source": [
    "### Example of information retrieval based on a question\n",
    "\n",
    "Let's test generating meaningful summary of answer given a question using the index we created using LlamaIndex"
   ]
  },
  {
   "cell_type": "code",
   "execution_count": 44,
   "id": "c27a4f19-ae1e-468b-bc72-bc18fc5a71ff",
   "metadata": {},
   "outputs": [
    {
     "name": "stdout",
     "output_type": "stream",
     "text": [
      "There is a potential security vulnerability detected and the disk space is critically low.\n"
     ]
    }
   ],
   "source": [
    "query_engine = index.as_query_engine(similarity_top_k=2)\n",
    "response = query_engine.query(\"describe any issue present\")\n",
    "print(response)"
   ]
  },
  {
   "cell_type": "markdown",
   "id": "00d78638-6f2e-4f5c-ab74-303f4437bbe9",
   "metadata": {},
   "source": [
    "### Example of information retrieval based on issue category\n",
    "\n",
    "Let's test Index to retrieve relevant logs from the index store based on the type of issue"
   ]
  },
  {
   "cell_type": "code",
   "execution_count": 45,
   "id": "a1252a70-328b-469e-8b69-ec311cdd67a4",
   "metadata": {},
   "outputs": [
    {
     "name": "stdout",
     "output_type": "stream",
     "text": [
      "Log Line      : 2024-06-02T13:10:20Z [WARNING] High temperature alert in chassis, current temperature: 60°C.\n",
      "Matching Score: 0.7614385990600855\n",
      "Log Line      : Jun 3 10:15:09 Router1 %QOS-5-QOS_FLOW_MONITORING: 80% of bandwidth utilization reached on GigabitEthernet0/0\n",
      "Matching Score: 0.7524785872109645\n",
      "Log Line      : Jun 3 10:15:00 Router1 %LINK-5-CHANGED: Interface GigabitEthernet0/1, changed state to administratively down\n",
      "Matching Score: 0.751182378692093\n"
     ]
    }
   ],
   "source": [
    "retriever = index.as_retriever(similarity_top_k=10)\n",
    "# please use any to see if this can match or find issues in available logs\n",
    "\"\"\"\n",
    "Firmware corruption\n",
    "Overheating hardware\n",
    "Misconfigured routing protocols\n",
    "VPN tunnel failures\n",
    "Port forwarding errors\n",
    "VLAN misconfiguration\n",
    "Spanning tree loops\n",
    "Port security violations\n",
    "Faulty switch fabric\n",
    "Insufficient PoE power\n",
    "hardware\n",
    "vulnerability\n",
    "\"\"\"\n",
    "nodes = retriever.retrieve(\"hardware\")\n",
    "nodes = [j for j in nodes if j.score>0.7]\n",
    "nodes = sorted(nodes, key=lambda x:x.score, reverse=True)[:3]\n",
    "for n in nodes:\n",
    "    print(f'Log Line      : {n.text}')\n",
    "    print(f'Matching Score: {n.score}')"
   ]
  },
  {
   "cell_type": "markdown",
   "id": "b3d477f0-af95-4921-9219-9973970d03e6",
   "metadata": {},
   "source": [
    "### Ground Truth for anomalies\n",
    "\n",
    "Reading signatures of known issue. Each containing issue name, issue description and set of logs previously seen"
   ]
  },
  {
   "cell_type": "code",
   "execution_count": 46,
   "id": "e60dd634-3bce-4299-a76d-85182fd6debd",
   "metadata": {},
   "outputs": [],
   "source": [
    "with open(mpath + 'signatures.txt', 'r') as file:\n",
    "    signatures = file.readlines()\n",
    "signatures = [j.replace('\\n', '') for j in signatures]\n",
    "signatures = ['####' if j=='' else j for j in signatures]\n",
    "signatures = ' \\n '.join(signatures)\n",
    "signatures = signatures.split('####')\n",
    "signatures = [j for j in signatures if j not in ('', ' \\n ', '####')]"
   ]
  },
  {
   "cell_type": "markdown",
   "id": "c9c55ad8-7766-4c58-aa49-1211e278f6d1",
   "metadata": {},
   "source": [
    "### Utility\n",
    "\n",
    "search_logs function would help use to get relevant logs to the query using Index store with filterig based on similarity threshold and number of top matched records"
   ]
  },
  {
   "cell_type": "code",
   "execution_count": 47,
   "id": "acb673da-5851-4ab3-a195-f9b8bb4d092d",
   "metadata": {},
   "outputs": [],
   "source": [
    "# Define a search function\n",
    "def search_logs(query, top_k=5, thre = 0.7):\n",
    "    retriever = index.as_retriever(similarity_top_k=top_k*3)\n",
    "    nodes = retriever.retrieve(query) #vulnerability\n",
    "    nodes = [j for j in nodes if j.score>thre]\n",
    "    nodes = sorted(nodes, key=lambda x:x.score, reverse=True)[:top_k]\n",
    "    #nodes = [j.text for j in nodes]\n",
    "\n",
    "    return nodes"
   ]
  },
  {
   "cell_type": "markdown",
   "id": "c59b0f0a-b3e1-412d-97af-5bd2a5495ac7",
   "metadata": {},
   "source": [
    "### Utility\n",
    "\n",
    "Using the selected LLM, we would create a report on issue description and possible resolution for retrieved logs"
   ]
  },
  {
   "cell_type": "code",
   "execution_count": 48,
   "id": "f1cfa856-32b3-4a1a-8d9b-a231958c0b3e",
   "metadata": {},
   "outputs": [],
   "source": [
    "# Function to generate a report using Langchain\n",
    "def generate_report(query, retrieved_docs):\n",
    "    prompt_template = \"\"\"\n",
    "    Based on the following query and logs:\n",
    "    Query: {query}\n",
    "    Logs: {logs}\n",
    "    Generate a detailed report, describe the problem and recommend a solution. \n",
    "    please remove those logs that are not relevant to query\n",
    "    \"\"\"\n",
    "    #prompt = PromptTemplate.from_template(prompt_template)\n",
    "    #message = prompt.format(query=query, logs=\"\\n\"+\"\\n\".join([doc.text for doc in retrieved_docs]))\n",
    "    prompt = PromptTemplate.from_template(prompt_template)\n",
    "    llm = OpenAI(temperature=0,model_name=\"gpt-3.5-turbo-instruct\")\n",
    "    chain = LLMChain(llm=llm, prompt=prompt)\n",
    "    response = chain.run({\"query\": query, \"logs\": \" \".join([doc.text for doc in retrieved_docs])})\n",
    "    return response"
   ]
  },
  {
   "cell_type": "markdown",
   "id": "78ba613e-4252-47d0-9fc2-e560800e5e0b",
   "metadata": {},
   "source": [
    "### Information Retrieval for Unknown Error"
   ]
  },
  {
   "cell_type": "code",
   "execution_count": 49,
   "id": "a0b876a7-0f18-4f39-97d1-6798270eb1b4",
   "metadata": {},
   "outputs": [
    {
     "name": "stdout",
     "output_type": "stream",
     "text": [
      "Relevant Logs: \n",
      "2024-06-01T12:00:00Z ERROR module_3 Unexpected null pointer exception occurred.\n",
      "2024-06-01T12:15:00Z ERROR module_1 Disk space critically low.\n",
      "2024-06-01T12:05:00Z WARN module_4 Potential security vulnerability detected.\n",
      "\n",
      "\n",
      "Report:\n",
      "\n",
      "Problem:\n",
      "The query \"Error in module 3\" indicates that there is an error occurring in module 3. The logs provided show three different errors, but only one of them is related to module 3. The other two errors are not relevant to the query and should be removed.\n",
      "\n",
      "Solution:\n",
      "To address the issue, the logs that are not relevant to the query should be removed. This will help to focus on the specific error in module 3 and provide a more accurate analysis.\n",
      "\n",
      "Detailed Report:\n",
      "The logs provided show three different errors that occurred on 2024-06-01 at different times. The first error, \"Unexpected null pointer exception occurred\" is related to module 3 and occurred at 2024-06-01T12:00:00Z. This error is likely the cause of the query \"Error in module 3\". The second error, \"Disk space critically low\" is related to module 1 and occurred at 2024-06-01T12:15:00Z. This error is not relevant to the query and should be removed. The third error, \"Potential security vulnerability detected\" is related to module 4 and occurred at 2024-06-01T12:05:00Z\n"
     ]
    }
   ],
   "source": [
    "# Example usage for search and reporting\n",
    "query = \"Error in module 3\"\n",
    "retrieved_logs = search_logs(query, top_k=3, thre = 0.7)\n",
    "report = generate_report(query, retrieved_logs)\n",
    "log_text = '\\n'.join([j.text for j in retrieved_logs])\n",
    "print(f\"Relevant Logs: \\n{log_text}\\n\\n{report}\")"
   ]
  },
  {
   "cell_type": "markdown",
   "id": "842c2107-f645-4c65-990e-7fef94889b2d",
   "metadata": {},
   "source": [
    "### Information Retrieval for observed error"
   ]
  },
  {
   "cell_type": "code",
   "execution_count": 50,
   "id": "9f3dec9a-684c-41ae-be7f-50ffab92e12a",
   "metadata": {},
   "outputs": [
    {
     "name": "stdout",
     "output_type": "stream",
     "text": [
      "Related Logs Report: \n",
      "Problem:\n",
      "The query \"Null pointer exception\" is causing a null pointer exception error in the system. This error is causing critical issues such as unexpected router reboots, memory allocation errors, and logging to host failures.\n",
      "\n",
      "Logs:\n",
      "2024-06-01T12:00:00Z ERROR module_3 Unexpected null pointer exception occurred.\n",
      "2024-06-02T13:30:40Z [CRITICAL] Router rebooted unexpectedly, last log messages may indicate cause.\n",
      "2024-06-02T13:20:30Z [ERROR] Memory allocation error on process 'httpd', device may be under a DoS attack.\n",
      "\n",
      "Detailed Report:\n",
      "Based on the logs provided, it can be seen that the null pointer exception error occurred on 2024-06-01T12:00:00Z in module_3. This error is causing critical issues such as unexpected router reboots and memory allocation errors. The error is also affecting the logging system, as seen in the logs on Jun 3 10:15:00, where the logging to host 192.168.1.3 stopped.\n",
      "\n",
      "The null pointer exception error is a common error in programming and can occur due to various reasons such as uninitialized variables, incorrect use\n"
     ]
    }
   ],
   "source": [
    "# Find logs related to a specific problem\n",
    "problem_description = \"Null pointer exception\"\n",
    "query = f\"Find logs related to the following problem: {problem_description}\"\n",
    "related_logs = search_logs(query, top_k=5, thre = 0.7)\n",
    "related_logs_report = generate_report(problem_description, related_logs)\n",
    "print(\"Related Logs Report:\", related_logs_report)"
   ]
  },
  {
   "cell_type": "code",
   "execution_count": 75,
   "id": "be3892a9-5af6-4f99-af77-2e5c8a7445ac",
   "metadata": {},
   "outputs": [
    {
     "name": "stdout",
     "output_type": "stream",
     "text": [
      " \n",
      " Security Breaches and Configuration Errors \n",
      " Security Breaches: These include unauthorized access and security protocol failures that may lead to data breaches or malicious activities. \n",
      " Configuration Errors: These involve incorrect settings or commands that could lead to network instability, exposure to vulnerabilities, or performance issues. \n",
      " %FIREWALL-1-INTRUSION_DETECTED: Alerts on detected intrusion attempts, critical for security incident responses. \n",
      " %VPN-3-HANDSHAKE_FAILURE: Indicates failures in VPN handshake processes, suggesting potential security or configuration issues. \n",
      " %CONFIG-2-INVALID_COMMAND: Signals that an invalid command was entered, potentially causing disruptions if not corrected. \n",
      " %BGP-4-CONFIG_ERROR: Warns of configuration errors with BGP neighbors, which could lead to routing issues or network instability. \n",
      " %SECURITY-3-LOGIN_FAILED: Login attempt failed for username {user} from {source} \n",
      " %AAA-3-CONFIG_ERROR: Configuration error detected in AAA setup \n",
      " WARNING\", \"%SYS-3-CPUHOG: Process exceeded time limit of CPU usage \n",
      " %LINK-3-UPDOWN: Interface {interface} went down unexpectedly \n",
      " %STP-3-BLOCK_ERR: Spanning tree blocking error on {interface} \n",
      " %SYS-3-CONFIG_ERR: Misconfiguration detected by system check \n",
      " %SECURITY-3-UNAUTHORIZED_ACCESS: Unauthorized access attempt detected on device {name} \n",
      " %CONFIGURATION-3-ERROR: Configuration error detected on device {name}. Could affect routing protocols \n",
      " %SECURITY-1-BREACH: Security breach confirmed on device {name}. Immediate action required \n",
      " %SECURITY-3-INVALID_ACCESS: Invalid access attempt detected on {interface} \n",
      " %CONFIGURATION-2-FAULT: Fault in configuration causing service disruption on {interface} \n",
      " %SECURITY-1-INTRUSION_DETECTED: Intrusion detected with potential data compromise on {interface}. \n",
      " \n"
     ]
    }
   ],
   "source": [
    "print(signatures[3])"
   ]
  },
  {
   "cell_type": "markdown",
   "id": "ca77a57b-c9cc-467f-86eb-b7d17707fec0",
   "metadata": {},
   "source": [
    "## Anomaly Detection\n",
    "\n",
    "#### finding anomalies by exhaustive search over logs"
   ]
  },
  {
   "cell_type": "code",
   "execution_count": 52,
   "id": "a4bff58e-9a54-4ff5-941b-824b82b529c1",
   "metadata": {},
   "outputs": [],
   "source": [
    "# searching exhaustively for log anomalies\n",
    "# this can be optimized for performance by storing embeddings for signatures from past anomalies\n",
    "anomalies = []\n",
    "for sig in signatures:\n",
    "    sig = sig.strip()\n",
    "    nodes = search_logs(sig, top_k=3, thre = 0.7)\n",
    "    anomalies.append([sig.split(' \\n ')[0],  nodes])"
   ]
  },
  {
   "cell_type": "code",
   "execution_count": 74,
   "id": "d5112403-b165-42af-8198-14c201652198",
   "metadata": {},
   "outputs": [
    {
     "name": "stdout",
     "output_type": "stream",
     "text": [
      "Security Breaches and Configuration Errors\n",
      "Jun 3 10:15:00 Router1 %SEC-6-IPACCESSLOGP: Security violation detected from source IP 192.168.2.100 to destination IP 192.168.1.1, attempting unauthorized access\n",
      "Jun 3 10:15:00 Router1 %SEC-6-IPACCESSLOGP: Security violation detected from source IP 192.168.2.100 to destination IP 192.168.1.1, attempting unauthorized access\n",
      "Jun 3 10:15:08 Router1 %IDS-6-ATTACK: Detected multiple SSH connection attempts from 192.168.2.100 within a short time period, potential brute force attack\n"
     ]
    }
   ],
   "source": [
    "print(anomalies[3][0])\n",
    "for i in anomalies[3][1]:\n",
    "    print(i.node.text)"
   ]
  },
  {
   "cell_type": "markdown",
   "id": "4b72a8de-e6e6-4a72-9831-c0a4fd520e9d",
   "metadata": {},
   "source": [
    "### Disambiguation\n",
    "\n",
    "Logs might have noisy information making them sustible to be selected for multiple issue types."
   ]
  },
  {
   "cell_type": "code",
   "execution_count": 54,
   "id": "f86c90b5-ea9a-4bad-b7da-660d72aec8c1",
   "metadata": {},
   "outputs": [],
   "source": [
    "# Anomalies has matched to multiple issues, need disambiguation, you can write complex disambiguation and replace this\n",
    "common_nodes = defaultdict(list)\n",
    "for ar in anomalies:\n",
    "    for i in ar[1]:\n",
    "        common_nodes[i.node.metadata['key']].append([ar[0], i.score])"
   ]
  },
  {
   "cell_type": "code",
   "execution_count": 55,
   "id": "8eca796b-bf8c-44f8-9cd6-17da415063fc",
   "metadata": {},
   "outputs": [
    {
     "name": "stdout",
     "output_type": "stream",
     "text": [
      "['Network Latency Issues', 0.8201085526021584]\n",
      "['Packet Loss Issues', 0.8129348685243899]\n",
      "['Broadcast Storm Issues', 0.7936497638372606]\n",
      "['Traffic Overload', 0.8323136167370643]\n",
      "['Overutilization of Resources', 0.842460503126184]\n",
      "['Underutilization of Resources', 0.8267723949015237]\n"
     ]
    }
   ],
   "source": [
    "for i in common_nodes[19]:\n",
    "    print(i)"
   ]
  },
  {
   "cell_type": "code",
   "execution_count": 56,
   "id": "64ac86da-6705-446c-a5f8-2ae0d126388e",
   "metadata": {},
   "outputs": [
    {
     "name": "stdout",
     "output_type": "stream",
     "text": [
      "Jun 3 10:15:09 Router1 %QOS-5-QOS_FLOW_MONITORING: 80% of bandwidth utilization reached on GigabitEthernet0/0\n"
     ]
    }
   ],
   "source": [
    "print(documents[19].text)"
   ]
  },
  {
   "cell_type": "markdown",
   "id": "ac830979-a7c4-4a43-962b-4e7a5fbd2a8c",
   "metadata": {},
   "source": [
    "### Best Match\n",
    "\n",
    "Here, best match is selected based on highest match score\n",
    "you can replace this with better logic or model"
   ]
  },
  {
   "cell_type": "code",
   "execution_count": 57,
   "id": "99a65640-c329-4471-a3ad-c53edac26732",
   "metadata": {},
   "outputs": [],
   "source": [
    "nodes_best_match = {k:max(v, key=lambda x:x[1]) for k,v in common_nodes.items()}"
   ]
  },
  {
   "cell_type": "code",
   "execution_count": 58,
   "id": "05364a17-6603-4666-82e6-4d42602cfd88",
   "metadata": {},
   "outputs": [
    {
     "data": {
      "text/plain": [
       "['Overutilization of Resources', 0.842460503126184]"
      ]
     },
     "execution_count": 58,
     "metadata": {},
     "output_type": "execute_result"
    }
   ],
   "source": [
    "nodes_best_match[19]"
   ]
  },
  {
   "cell_type": "markdown",
   "id": "b85277f9-5a66-414b-bcb6-7f0e083e40d7",
   "metadata": {},
   "source": [
    "### Final Anomalies\n",
    "\n",
    "Removing anomalies from issue types that are not a good match. And keeping them with the issue type with best match. "
   ]
  },
  {
   "cell_type": "code",
   "execution_count": 59,
   "id": "3d44f25a-a0c6-4389-ad9c-f632badb900f",
   "metadata": {},
   "outputs": [],
   "source": [
    "anomalies_selected = []\n",
    "for ar in anomalies:\n",
    "    selected_recs = []\n",
    "    for i in ar[1]:\n",
    "        rec_no = i.metadata['key']\n",
    "        if rec_no in nodes_best_match:\n",
    "            cat = nodes_best_match[rec_no][0]\n",
    "            if ar[0] != cat:\n",
    "                continue\n",
    "        selected_recs.append(i)\n",
    "    anomalies_selected.append([ar[0], selected_recs])\n",
    "\n",
    "anomalies_selected = [i for i in anomalies_selected if i[1]]"
   ]
  },
  {
   "cell_type": "markdown",
   "id": "ae332239-cbdf-4cad-97f2-904c27532b76",
   "metadata": {},
   "source": [
    "### Visualizing Anomalies\n",
    "\n",
    "#### tSNE"
   ]
  },
  {
   "cell_type": "code",
   "execution_count": 60,
   "id": "1494e2a6-682c-4162-ad7f-437c0df1eb70",
   "metadata": {},
   "outputs": [],
   "source": [
    "# Plot anomalies\n",
    "from sklearn.manifold import TSNE\n",
    "import pandas as pd\n",
    "import plotly.io as pio\n",
    "import plotly.express as px\n",
    "pio.renderers.default='browser'"
   ]
  },
  {
   "cell_type": "code",
   "execution_count": 61,
   "id": "40a356c5-3f29-4af8-89eb-a5cfb466fe15",
   "metadata": {},
   "outputs": [],
   "source": [
    "df = pd.DataFrame()\n",
    "\n",
    "for a_s in anomalies_selected:\n",
    "    for i in a_s[1]:\n",
    "        dfp = pd.DataFrame([embedding_model.embed_query(i.node.text)], [a_s[0]])\n",
    "        df = pd.concat([df, dfp])"
   ]
  },
  {
   "cell_type": "code",
   "execution_count": 62,
   "id": "1bb3e518-fd6e-43a5-b787-ae320b7fcccd",
   "metadata": {},
   "outputs": [
    {
     "data": {
      "text/plain": [
       "(25, 2)"
      ]
     },
     "execution_count": 62,
     "metadata": {},
     "output_type": "execute_result"
    }
   ],
   "source": [
    " # We want to get TSNE embedding with 2 dimensions\n",
    "n_components = 2\n",
    "tsne = TSNE(n_components, perplexity=df.shape[0]//2)\n",
    "tsne_result = tsne.fit_transform(df.values)\n",
    "tsne_result.shape\n",
    "# (25, 2)\n",
    "# Two dimensions for each anomaly"
   ]
  },
  {
   "cell_type": "markdown",
   "id": "3a339f8c-9ff2-4da2-9fc5-ffeed674e431",
   "metadata": {},
   "source": [
    "#### Please check your browser, it should appear there in a new tab"
   ]
  },
  {
   "cell_type": "code",
   "execution_count": 63,
   "id": "3c2fc6ef-4331-49ae-8ed7-46e9c5a53d4e",
   "metadata": {},
   "outputs": [],
   "source": [
    "#Please check your browser for the plot, hovering over scatter dots should reveal information\n",
    "fig = px.scatter(x=tsne_result[:, 0], \n",
    "                 y=tsne_result[:, 1], \n",
    "                 color=df.index\n",
    "                 )\n",
    "fig.update_traces(marker={'size': 50})\n",
    "fig.update_layout(\n",
    "    title=\"t-SNE visualization of Anomaly Detection\",\n",
    "    xaxis_title=\"First t-SNE\",\n",
    "    yaxis_title=\"Second t-SNE\",\n",
    ")\n",
    "fig.show()"
   ]
  },
  {
   "cell_type": "markdown",
   "id": "1612b81b-70b5-4096-97da-f3cb0051f5d2",
   "metadata": {},
   "source": [
    "### Generating Report\n",
    "#### problem description, possible resolution"
   ]
  },
  {
   "cell_type": "code",
   "execution_count": 64,
   "id": "3bf2df89-982d-4202-a59e-5d41ade2845d",
   "metadata": {},
   "outputs": [],
   "source": [
    "# Generate report for each anomaly\n",
    "anomalies_reports = []\n",
    "for ano in anomalies_selected:\n",
    "    anomaly_report = generate_report(ano[0], ano[1])\n",
    "    anomalies_reports.append([ ano[0], ano[1], anomaly_report])"
   ]
  },
  {
   "cell_type": "code",
   "execution_count": 65,
   "id": "1db2547b-785e-426d-a991-7b3c39bda73d",
   "metadata": {},
   "outputs": [
    {
     "name": "stdout",
     "output_type": "stream",
     "text": [
      "Hardware and Configuration Errors\n",
      "Anomaly Report: \n",
      "Jun 3 10:15:00 Router1 %LINK-5-CHANGED: Interface GigabitEthernet0/0, changed state to administratively down\n",
      "Jun 3 10:15:00 Router1 %LINK-5-CHANGED: Interface GigabitEthernet0/1, changed state to administratively down\n",
      "Jun 3 10:15:00 Router1 %LINK-5-CHANGED: Interface GigabitEthernet0/0, changed state to administratively down\n",
      "\n",
      "\n",
      "Report:\n",
      "\n",
      "Problem:\n",
      "The logs show that there are multiple hardware and configuration errors on Router1. Specifically, the GigabitEthernet0/0 and GigabitEthernet0/1 interfaces have changed state to administratively down. This indicates that there is an issue with the configuration or hardware of these interfaces.\n",
      "\n",
      "Possible Causes:\n",
      "1. Misconfiguration: The interfaces may have been configured incorrectly, causing them to go into an administratively down state.\n",
      "2. Hardware Failure: There may be a hardware issue with the interfaces, causing them to fail and go into an administratively down state.\n",
      "3. Software Bug: There may be a bug in the software of Router1 that is causing the interfaces to go into an administratively down state.\n",
      "\n",
      "Recommendation:\n",
      "1. Check Configuration: The first step in resolving this issue is to check the configuration of the GigabitEthernet0/0 and GigabitEthernet0/1 interfaces. Make sure that they are configured correctly and that there are no conflicting settings.\n",
      "2. Check Hardware: If the configuration is correct, the next step is to check the hardware of the interfaces. This can be done by physically inspecting the interfaces and checking for any visible damage. If there is no visible damage, try replacing the interfaces with known working ones to see if\n",
      "\n",
      "-----------------\n",
      "\n",
      "Security and Performance Issues\n",
      "Anomaly Report: \n",
      "Jun 3 10:15:02 Router1 %VPN-5-NEGOTIATION_DOWN: IPSec connection with peer 203.0.113.2 on interface GigabitEthernet0/0 was down, reason: Phase 1 failed: IKE authentication credentials are unacceptable\n",
      "Jun 3 10:15:02 Router1 %VPN-5-NEGOTIATION_DOWN: IPSec connection with peer 203.0.113.2 on interface GigabitEthernet0/0 was down, reason: Phase 1 failed: IKE authentication credentials are unacceptable\n",
      "Jun 3 10:15:06 Router1 %VPN-5-NEGOTIATION_DOWN: IPSec connection with peer 203.0.113.2 on interface GigabitEthernet0/0 was down, reason: Phase 1 failed: IKE authentication credentials are unacceptable\n",
      "\n",
      "\n",
      "Report:\n",
      "\n",
      "Title: Security and Performance Issues with IPSec Connection on Router1\n",
      "\n",
      "Introduction:\n",
      "The purpose of this report is to analyze the security and performance issues with the IPSec connection on Router1. The query for this report is \"Security and Performance Issues\" and the logs provided are related to the IPSec connection with peer 203.0.113.2 on interface GigabitEthernet0/0.\n",
      "\n",
      "Problem:\n",
      "The logs show that the IPSec connection with peer 203.0.113.2 on interface GigabitEthernet0/0 was down multiple times due to Phase 1 failure with the reason being \"IKE authentication credentials are unacceptable\". This indicates that there is an issue with the authentication process for the IPSec connection.\n",
      "\n",
      "Analysis:\n",
      "The IKE (Internet Key Exchange) protocol is used for setting up a secure communication channel between two devices. It is responsible for negotiating the security parameters and exchanging authentication credentials for the IPSec connection. The logs suggest that there is a problem with the authentication credentials, which could be due to incorrect or mismatched credentials between the two devices.\n",
      "\n",
      "Recommendation:\n",
      "To resolve this issue, it is recommended to check the authentication credentials configured on both Router1 and the peer device (203.0.113.2). The credentials should match\n",
      "\n",
      "-----------------\n",
      "\n",
      "Hardware Malfunctions and Firmware Issues\n",
      "Anomaly Report: \n",
      "Jun 3 10:15:00 Router1 %SYS-5-RESTART: System restarted --\n",
      "Jun 3 10:15:00 Router1 %SYS-5-RESTART: System restarted --\n",
      "\n",
      "\n",
      "Report:\n",
      "\n",
      "Problem:\n",
      "The logs show that the router, named Router1, has experienced a system restart on June 3 at 10:15:00. This is indicated by the %SYS-5-RESTART message, which is a system message that is generated when the router restarts. This indicates that there may be a hardware malfunction or firmware issue with the router.\n",
      "\n",
      "Possible Causes:\n",
      "1. Hardware Malfunction: A hardware malfunction can occur due to various reasons such as faulty hardware components, overheating, or power supply issues. This can lead to system crashes and restarts.\n",
      "2. Firmware Issues: Firmware is the software that is embedded in the hardware of the router. If there is a bug or glitch in the firmware, it can cause the router to malfunction and restart.\n",
      "\n",
      "Recommendation:\n",
      "1. Check Hardware Components: The first step in resolving this issue is to check the hardware components of the router. This includes checking for any loose connections, damaged components, or overheating. If any issues are found, they should be addressed immediately.\n",
      "2. Update Firmware: If the hardware components are functioning properly, the next step is to update the firmware of the router. This can be done by downloading the latest firmware from the manufacturer's website and following the instructions for\n",
      "\n",
      "-----------------\n",
      "\n",
      "Security Breaches and Configuration Errors\n",
      "Anomaly Report: \n",
      "Jun 3 10:15:08 Router1 %IDS-6-ATTACK: Detected multiple SSH connection attempts from 192.168.2.100 within a short time period, potential brute force attack\n",
      "\n",
      "\n",
      "Report:\n",
      "\n",
      "Problem:\n",
      "The logs show that there have been multiple SSH connection attempts from a single IP address within a short time period. This indicates a potential brute force attack on the network, which can lead to security breaches and configuration errors.\n",
      "\n",
      "Explanation:\n",
      "SSH (Secure Shell) is a network protocol used for secure remote access to devices. It allows users to log in to a remote device and execute commands as if they were physically present at the device. However, if an unauthorized user gains access to the network through SSH, they can cause significant damage by stealing sensitive information, modifying configurations, or launching other attacks.\n",
      "\n",
      "In this case, the logs indicate that there have been multiple SSH connection attempts from a single IP address, which is a common tactic used in brute force attacks. Brute force attacks involve trying different combinations of usernames and passwords until the correct one is found, allowing the attacker to gain access to the network.\n",
      "\n",
      "Recommendation:\n",
      "To prevent such attacks, it is essential to implement strong security measures and best practices for SSH access. This includes:\n",
      "\n",
      "1. Limiting SSH access to only authorized users and devices.\n",
      "2. Enforcing strong password policies, such as using complex and unique passwords.\n",
      "3. Implementing two-factor authentication for SSH access.\n",
      "4. Regularly monitoring and reviewing\n",
      "\n",
      "-----------------\n",
      "\n",
      "Power and Hardware Failures\n",
      "Anomaly Report: \n",
      "Jun 3 10:15:00 Router1 %SYS-5-RESTART: System restarted --\n",
      "\n",
      "\n",
      "Report:\n",
      "\n",
      "Problem:\n",
      "The logs show that the router, named Router1, experienced a system restart on June 3 at 10:15:00. This restart was triggered by a power and hardware failure, as indicated by the %SYS-5-RESTART message. This indicates that there was a critical issue with the power supply or hardware components of the router, leading to a system failure and subsequent restart.\n",
      "\n",
      "Recommendation:\n",
      "Based on the logs, it is recommended to investigate the cause of the power and hardware failure in order to prevent future incidents. This could involve checking the power supply and hardware components for any damage or malfunctions, and replacing them if necessary. It is also important to ensure that the router is properly maintained and regularly checked for any potential issues.\n",
      "\n",
      "Additionally, it is recommended to implement a monitoring system that can detect and alert for any power or hardware failures in real-time. This will allow for prompt action to be taken in case of any future incidents, minimizing downtime and potential damage to the router.\n",
      "\n",
      "Furthermore, it is important to have a backup plan in place in case of a power or hardware failure. This could involve having spare hardware components on hand, as well as a backup power supply or generator to keep the router running in case of a power outage\n",
      "\n",
      "-----------------\n",
      "\n",
      "Network Latency Issues\n",
      "Anomaly Report: \n",
      "Jun 3 10:15:09 Router1 %QOS-5-OUT_OF_BUFFERS: Out of buffers in the egress queue on GigabitEthernet0/1\n",
      "\n",
      "\n",
      "Report:\n",
      "\n",
      "Problem Description:\n",
      "The query \"Network Latency Issues\" indicates that there are issues with network latency, which can cause delays and slow down network performance. The logs provided show an error message related to buffer shortage in the egress queue on GigabitEthernet0/1 of Router1. This indicates that there is a bottleneck in the network, causing packets to be dropped due to lack of available buffers. This can lead to increased network latency and potentially affect the overall network performance.\n",
      "\n",
      "Possible Causes:\n",
      "1. Network Congestion: The network may be experiencing high levels of traffic, causing congestion and leading to buffer shortages.\n",
      "2. Misconfiguration: The router may be misconfigured, causing it to allocate insufficient buffers for the egress queue.\n",
      "3. Hardware Failure: There may be a hardware failure in the router, causing it to not have enough buffers available for the egress queue.\n",
      "\n",
      "Recommended Solution:\n",
      "1. Monitor Network Traffic: It is recommended to monitor the network traffic to identify any potential congestion issues. This can be done using network monitoring tools or by analyzing network traffic patterns.\n",
      "2. Check Router Configuration: The router configuration should be checked to ensure that sufficient buffers are allocated for the egress queue. If necessary, the configuration should be adjusted to allocate more buffers.\n",
      "3\n",
      "\n",
      "-----------------\n",
      "\n",
      "Link Flapping Issues\n",
      "Anomaly Report: \n",
      "Jun 3 10:15:00 Router1 %LINK-3-UPDOWN: Interface GigabitEthernet0/0, changed state to down\n",
      "Jun 3 10:15:00 Router1 %LINK-5-CHANGED: Interface GigabitEthernet0/1, changed state to administratively down\n",
      "\n",
      "\n",
      "Report:\n",
      "\n",
      "Problem:\n",
      "The logs show that there is an issue with link flapping on the router. This means that the interface is constantly going up and down, which can cause network connectivity issues and disrupt communication.\n",
      "\n",
      "Explanation:\n",
      "The first log entry shows that the interface GigabitEthernet0/0 has changed state to down. This means that the interface is no longer active and cannot transmit or receive data. The second log entry shows that the interface GigabitEthernet0/1 has changed state to administratively down. This means that the interface has been manually disabled by an administrator.\n",
      "\n",
      "Recommendation:\n",
      "To resolve this issue, the administrator should check the physical connections of the interfaces and make sure they are secure. If the issue persists, the administrator should check for any errors or misconfigurations on the interfaces. It is also recommended to check for any network loops or excessive traffic on the affected interfaces. If necessary, the interfaces can be reset or replaced to resolve the link flapping issue. Additionally, implementing link aggregation or using a different interface can help improve network stability. Regular monitoring and maintenance of the network can also prevent link flapping issues in the future.\n",
      "\n",
      "-----------------\n",
      "\n",
      "Unauthorized Access\n",
      "Anomaly Report: \n",
      "Jun 3 10:15:00 Router1 %SEC-6-IPACCESSLOGP: Security violation detected from source IP 192.168.2.100 to destination IP 192.168.1.1, attempting unauthorized access\n",
      "Jun 3 10:15:00 Router1 %SEC-6-IPACCESSLOGP: Security violation detected from source IP 192.168.2.100 to destination IP 192.168.1.1, attempting unauthorized access\n",
      "\n",
      "\n",
      "Report:\n",
      "\n",
      "Problem:\n",
      "The logs show that there was an unauthorized access attempt from source IP 192.168.2.100 to destination IP 192.168.1.1 on Jun 3 at 10:15:00. This is a security violation and could potentially lead to a breach of the network.\n",
      "\n",
      "Solution:\n",
      "1. Investigate the source IP 192.168.2.100 to determine if it is a legitimate device on the network or if it is an unauthorized user trying to gain access.\n",
      "2. If the source IP is a legitimate device, check its access permissions and make sure it is not trying to access unauthorized resources.\n",
      "3. If the source IP is an unauthorized user, take immediate action to block their access and prevent any further attempts.\n",
      "4. Review the network security policies and make sure they are up to date and properly configured to prevent unauthorized access attempts.\n",
      "5. Consider implementing additional security measures such as two-factor authentication or network segmentation to further protect the network from unauthorized access attempts.\n",
      "6. Regularly monitor and review network logs to identify any suspicious activity and take appropriate action.\n",
      "7. Educate network users on the importance of network security and the potential consequences of unauthorized access attempts.\n",
      "8. Consider implementing a network intrusion detection system to pro\n",
      "\n",
      "-----------------\n",
      "\n",
      "Security Misconfiguration\n",
      "Anomaly Report: \n",
      "2024-06-01T12:05:00Z WARN module_4 Potential security vulnerability detected.\n",
      "\n",
      "\n",
      "Report:\n",
      "\n",
      "Title: Security Misconfiguration Detected\n",
      "\n",
      "Problem:\n",
      "The query for Security Misconfiguration has detected a potential security vulnerability in the system. The logs show a warning message that indicates a potential security issue. This could lead to unauthorized access, data breaches, and other security risks.\n",
      "\n",
      "Detailed Description:\n",
      "The logs show that on 2024-06-01 at 12:05:00 UTC, a warning message was generated by module_4 indicating a potential security vulnerability. This warning message is a clear indication that there is a security misconfiguration in the system. This could be due to incorrect settings, outdated software, or other configuration errors.\n",
      "\n",
      "A security misconfiguration occurs when the system is not properly configured to protect against known security risks. This can happen due to human error, lack of security awareness, or inadequate security measures in place. In this case, the warning message suggests that there is a potential vulnerability that could be exploited by attackers to gain unauthorized access to the system.\n",
      "\n",
      "Recommendation:\n",
      "To address this issue, it is recommended to investigate the warning message further and identify the root cause of the security misconfiguration. This could involve reviewing the system's configuration settings, updating software and security patches, and implementing proper security measures.\n",
      "\n",
      "Additionally, it is important to regularly review and update\n",
      "\n",
      "-----------------\n",
      "\n",
      "DDoS Attack\n",
      "Anomaly Report: \n",
      "2024-06-02T13:15:25Z [ALERT] Intrusion detection system flagged suspicious traffic from IP 198.51.100.25.\n",
      "\n",
      "\n",
      "Report:\n",
      "\n",
      "Problem:\n",
      "The query for DDoS attack has resulted in an alert from the intrusion detection system (IDS) for suspicious traffic from IP 198.51.100.25. This indicates that there may be a potential DDoS attack targeting the system.\n",
      "\n",
      "Explanation:\n",
      "A DDoS (Distributed Denial of Service) attack is a type of cyber attack where multiple compromised systems, often infected with malware, are used to target a single system or network. The goal of a DDoS attack is to overwhelm the targeted system with a large amount of traffic, causing it to crash or become unavailable to legitimate users.\n",
      "\n",
      "In this case, the IDS has flagged suspicious traffic from IP 198.51.100.25, indicating that it may be part of a DDoS attack. This IP address could be a compromised system being used as part of the attack, or it could be a spoofed IP address used to hide the true source of the attack.\n",
      "\n",
      "Recommendation:\n",
      "1. Investigate the source of the suspicious traffic: The first step in addressing a potential DDoS attack is to investigate the source of the suspicious traffic. This can be done by analyzing network traffic logs and identifying any patterns or anomalies.\n",
      "\n",
      "2. Block the suspicious IP address:\n",
      "\n",
      "-----------------\n",
      "\n",
      "Hardware Failure\n",
      "Anomaly Report: \n",
      "Jun 3 10:15:00 Router1 %SYS-5-RESTART: System restarted --\n",
      "Jun 3 10:15:00 Router1 %SYS-5-RESTART: System restarted --\n",
      "Jun 3 10:15:00 Router1 %SYS-5-RESTART: System restarted --\n",
      "\n",
      "\n",
      "Report:\n",
      "\n",
      "Problem:\n",
      "The query \"Hardware Failure\" indicates that there may be an issue with the hardware of Router1. This is further supported by the logs showing multiple system restarts at the same time.\n",
      "\n",
      "Possible Causes:\n",
      "1. Hardware malfunction: The hardware of Router1 may have malfunctioned, causing the system to restart multiple times.\n",
      "2. Overheating: The router may have overheated, leading to hardware failure and subsequent restarts.\n",
      "3. Power supply issues: The power supply to Router1 may be unstable, causing the system to restart.\n",
      "\n",
      "Recommendations:\n",
      "1. Check hardware: The first step would be to check the hardware of Router1 for any signs of damage or malfunction. This could include physical inspection of the router and its components, as well as running diagnostic tests.\n",
      "2. Monitor temperature: It is important to monitor the temperature of Router1 to ensure it is within the recommended range. If the router is overheating, steps should be taken to improve ventilation and cooling.\n",
      "3. Check power supply: The power supply to Router1 should be checked for stability. If there are any issues, they should be addressed immediately to prevent further hardware failures.\n",
      "\n",
      "Solution:\n",
      "Based on the possible causes and recommendations, the following steps should be taken to resolve the issue:\n",
      "\n",
      "\n",
      "-----------------\n",
      "\n",
      "Physical Damage\n",
      "Anomaly Report: \n",
      "2024-06-02T13:30:40Z [CRITICAL] Router rebooted unexpectedly, last log messages may indicate cause.\n",
      "\n",
      "\n",
      "Report:\n",
      "\n",
      "Problem:\n",
      "The query for \"Physical Damage\" has resulted in a critical log message indicating that the router has rebooted unexpectedly. This could potentially indicate a hardware issue or a software malfunction that has caused physical damage to the router.\n",
      "\n",
      "Possible Causes:\n",
      "1. Hardware Failure: The router may have experienced a hardware failure, such as a power surge or a faulty component, which has caused physical damage and resulted in the unexpected reboot.\n",
      "2. Software Malfunction: There may have been a software malfunction, such as a bug or a virus, that has caused the router to reboot unexpectedly and potentially caused physical damage.\n",
      "\n",
      "Recommendation:\n",
      "1. Physical Inspection: The first step would be to physically inspect the router for any visible signs of damage, such as burnt components or loose connections. If any damage is found, the affected components should be replaced.\n",
      "2. Software Update: If no physical damage is found, the next step would be to update the router's software to the latest version. This can help fix any bugs or vulnerabilities that may have caused the unexpected reboot.\n",
      "3. Security Check: It is also recommended to perform a security check to ensure that the router has not been compromised by a virus or malware. If any malicious activity is detected, appropriate measures should be taken to remove\n",
      "\n",
      "-----------------\n",
      "\n",
      "Firmware Issues\n",
      "Anomaly Report: \n",
      "Jun 3 10:15:00 Router1 %SYS-5-RESTART: System restarted --\n",
      "\n",
      "\n",
      "Report:\n",
      "\n",
      "Problem:\n",
      "The router with the hostname \"Router1\" experienced a system restart on June 3 at 10:15:00. This was indicated by the log message \"%SYS-5-RESTART: System restarted\". This unexpected restart could be a result of firmware issues.\n",
      "\n",
      "Explanation:\n",
      "Firmware is a type of software that is embedded in hardware devices, such as routers, to control their functionality. It is responsible for managing the device's hardware components and providing the necessary instructions for it to function properly. If there are issues with the firmware, it can cause the device to malfunction or even crash, resulting in a system restart.\n",
      "\n",
      "Recommendation:\n",
      "To address this issue, it is recommended to check the firmware version of the router and ensure that it is up to date. If there are any known bugs or vulnerabilities in the current firmware version, it is important to upgrade to a newer version that addresses these issues. Additionally, it is recommended to regularly monitor the router's performance and logs to identify any potential firmware issues and address them promptly.\n",
      "\n",
      "Conclusion:\n",
      "In conclusion, the unexpected system restart on Router1 could be a result of firmware issues. It is important to regularly update the firmware and monitor the router's performance to prevent such incidents from occurring in the future. \n",
      "\n",
      "-----------------\n",
      "\n",
      "Overutilization of Resources\n",
      "Anomaly Report: \n",
      "Jun 3 10:15:09 Router1 %QOS-5-QOS_FLOW_MONITORING: 80% of bandwidth utilization reached on GigabitEthernet0/0\n",
      "Jun 3 10:15:09 Router1 %QOS-5-QOS_FLOW_MONITORING: 80% of bandwidth utilization reached on GigabitEthernet0/1\n",
      "2024-06-02T13:35:45Z [WARNING] Unexpected decrease in interface GigabitEthernet0/1 bandwidth utilization.\n",
      "\n",
      "\n",
      "Report:\n",
      "\n",
      "Problem:\n",
      "The logs show that there is an overutilization of resources on the router, specifically on the GigabitEthernet0/0 and GigabitEthernet0/1 interfaces. This means that the bandwidth utilization on these interfaces has reached 80%, which is a high level and can lead to network congestion and performance issues.\n",
      "\n",
      "Possible Causes:\n",
      "1. Increased network traffic: The sudden increase in bandwidth utilization could be due to a spike in network traffic, which could be caused by a large number of users or devices accessing the network at the same time.\n",
      "2. Misconfigured QoS policies: The Quality of Service (QoS) policies on the router may not be properly configured, leading to inefficient use of bandwidth and overutilization of resources.\n",
      "3. Network bottleneck: There could be a bottleneck in the network, causing congestion and leading to high bandwidth utilization on specific interfaces.\n",
      "\n",
      "Recommendations:\n",
      "1. Monitor network traffic: It is important to monitor network traffic to identify any spikes or unusual patterns that could be causing the overutilization of resources. This can be done using network monitoring tools or by analyzing network traffic logs.\n",
      "2. Review QoS policies: Review and optimize the QoS policies on the router to ensure that bandwidth is allocated efficiently and prioritize critical traffic.\n",
      "\n",
      "\n",
      "-----------------\n",
      "\n"
     ]
    }
   ],
   "source": [
    "for ano in anomalies_reports:\n",
    "    print(ano[0])\n",
    "    log_text = '\\n'.join([j.text for j in ano[1]])\n",
    "    print(f\"Anomaly Report: \\n{log_text}\\n\\n{ano[2]}\")\n",
    "    print('\\n-----------------\\n')\n",
    "    #print(input())"
   ]
  },
  {
   "cell_type": "code",
   "execution_count": null,
   "id": "67141ee8-11ef-4227-9050-0e02a8b30fd6",
   "metadata": {},
   "outputs": [],
   "source": []
  },
  {
   "cell_type": "code",
   "execution_count": null,
   "id": "7e08fea8-44e1-4d4a-9e54-056e3180bf2c",
   "metadata": {},
   "outputs": [],
   "source": []
  }
 ],
 "metadata": {
  "kernelspec": {
   "display_name": "Python 3 (ipykernel)",
   "language": "python",
   "name": "python3"
  },
  "language_info": {
   "codemirror_mode": {
    "name": "ipython",
    "version": 3
   },
   "file_extension": ".py",
   "mimetype": "text/x-python",
   "name": "python",
   "nbconvert_exporter": "python",
   "pygments_lexer": "ipython3",
   "version": "3.11.7"
  }
 },
 "nbformat": 4,
 "nbformat_minor": 5
}
